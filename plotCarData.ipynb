{
 "cells": [
  {
   "cell_type": "code",
   "execution_count": 4,
   "metadata": {},
   "outputs": [],
   "source": [
    "import numpy as np\n",
    "import pandas as pd\n",
    "import matplotlib.pyplot as plt"
   ]
  },
  {
   "cell_type": "markdown",
   "metadata": {},
   "source": [
    "需求：\n",
    "记录每一个csv的第一列所包含的矩阵个数，并统计绘制31个文件的图片，每周的图片，总的图片"
   ]
  },
  {
   "cell_type": "code",
   "execution_count": 22,
   "metadata": {},
   "outputs": [],
   "source": [
    "# 记录每天的总数\n",
    "perDaySum={}"
   ]
  },
  {
   "cell_type": "code",
   "execution_count": 23,
   "metadata": {},
   "outputs": [],
   "source": [
    "def DrawPerDayData(numList,day):\n",
    "    plt.plot(numList)\n",
    "    plt.xlabel(u'Time',fontproperties='SimHei',fontsize=14)\n",
    "    plt.ylabel(u'Num',fontproperties='SimHei',fontsize=14)\n",
    "    plt.title(day)\n",
    "    plt.xticks([0,48,96,144,192,242,290],['00:00','04:00','08:00','12:00','16:00','20:00','24:00'])\n",
    "    plt.savefig(\"F:\\\\BWMProject\\\\10.26\\\\\"+day+\".png\")\n",
    "    plt.close()\n",
    "    perDaySum[day]=sum(numList)"
   ]
  },
  {
   "cell_type": "code",
   "execution_count": 24,
   "metadata": {},
   "outputs": [],
   "source": [
    "def getSeri(day):\n",
    "    df=pd.read_csv(\"F:\\\\BWMProject\\\\taxi data\\\\\"+day+\".csv\")\n",
    "    cor=df.coordinates\n",
    "    return cor"
   ]
  },
  {
   "cell_type": "code",
   "execution_count": 25,
   "metadata": {},
   "outputs": [],
   "source": [
    "for i in range(2,31):\n",
    "    day=\"2018-09-\"+str(0)+str(i) if i<10 else \"2018-09-\"+str(i)\n",
    "    cor=getSeri(day)\n",
    "    numList=[]\n",
    "    for key,value in cor.items():\n",
    "        strList=value.split(\",\")\n",
    "        numList.append(int(len(strList)/2))\n",
    "    DrawPerDayData(numList,day)"
   ]
  },
  {
   "cell_type": "code",
   "execution_count": 26,
   "metadata": {},
   "outputs": [],
   "source": [
    "# 画第30天的图片\n",
    "newday=\"2018-09-30\"\n",
    "cor=getSeri(newday)\n",
    "numList=[]\n",
    "for key,value in cor.items():\n",
    "    strList=value.split(\",\")\n",
    "    numList.append(int(len(strList)/2))\n",
    "DrawPerDayData(numList,newday)"
   ]
  },
  {
   "cell_type": "markdown",
   "metadata": {},
   "source": [
    "加入第一天的数据并对字典进行排序"
   ]
  },
  {
   "cell_type": "code",
   "execution_count": 28,
   "metadata": {},
   "outputs": [],
   "source": [
    "perDaySum['2018-09-01']=1214625"
   ]
  },
  {
   "cell_type": "code",
   "execution_count": 29,
   "metadata": {},
   "outputs": [
    {
     "data": {
      "text/plain": [
       "{'2018-09-02': 1157184,\n",
       " '2018-09-03': 1340174,\n",
       " '2018-09-04': 1353668,\n",
       " '2018-09-05': 1453101,\n",
       " '2018-09-06': 1447072,\n",
       " '2018-09-07': 1238686,\n",
       " '2018-09-08': 1227598,\n",
       " '2018-09-09': 1082438,\n",
       " '2018-09-10': 1331469,\n",
       " '2018-09-11': 1379618,\n",
       " '2018-09-12': 1280982,\n",
       " '2018-09-13': 1346782,\n",
       " '2018-09-14': 1212977,\n",
       " '2018-09-15': 1195034,\n",
       " '2018-09-16': 1164884,\n",
       " '2018-09-17': 1107756,\n",
       " '2018-09-18': 1342100,\n",
       " '2018-09-19': 1269253,\n",
       " '2018-09-20': 1345197,\n",
       " '2018-09-21': 1244178,\n",
       " '2018-09-22': 1183129,\n",
       " '2018-09-23': 1090551,\n",
       " '2018-09-24': 1199268,\n",
       " '2018-09-25': 1384642,\n",
       " '2018-09-26': 1391487,\n",
       " '2018-09-27': 1315564,\n",
       " '2018-09-28': 1229203,\n",
       " '2018-09-29': 1150601,\n",
       " '2018-09-30': 995526,\n",
       " '2018-09-01': 1214625}"
      ]
     },
     "execution_count": 29,
     "metadata": {},
     "output_type": "execute_result"
    }
   ],
   "source": [
    "perDaySum"
   ]
  },
  {
   "cell_type": "code",
   "execution_count": 32,
   "metadata": {},
   "outputs": [
    {
     "ename": "AttributeError",
     "evalue": "'list' object has no attribute 'items'",
     "output_type": "error",
     "traceback": [
      "\u001b[1;31m---------------------------------------------------------------------------\u001b[0m",
      "\u001b[1;31mAttributeError\u001b[0m                            Traceback (most recent call last)",
      "\u001b[1;32m<ipython-input-32-3c91fd5c54f8>\u001b[0m in \u001b[0;36m<module>\u001b[1;34m\u001b[0m\n\u001b[1;32m----> 1\u001b[1;33m \u001b[0mperDaySum\u001b[0m\u001b[1;33m=\u001b[0m \u001b[0msorted\u001b[0m\u001b[1;33m(\u001b[0m\u001b[0mperDaySum\u001b[0m\u001b[1;33m.\u001b[0m\u001b[0mitems\u001b[0m\u001b[1;33m(\u001b[0m\u001b[1;33m)\u001b[0m\u001b[1;33m,\u001b[0m \u001b[0mkey\u001b[0m\u001b[1;33m=\u001b[0m\u001b[1;32mlambda\u001b[0m \u001b[0md\u001b[0m\u001b[1;33m:\u001b[0m\u001b[0md\u001b[0m\u001b[1;33m[\u001b[0m\u001b[1;36m0\u001b[0m\u001b[1;33m]\u001b[0m\u001b[1;33m,\u001b[0m \u001b[0mreverse\u001b[0m \u001b[1;33m=\u001b[0m \u001b[1;32mFalse\u001b[0m\u001b[1;33m)\u001b[0m\u001b[1;33m\u001b[0m\u001b[0m\n\u001b[0m",
      "\u001b[1;31mAttributeError\u001b[0m: 'list' object has no attribute 'items'"
     ]
    }
   ],
   "source": [
    "perDaySum= sorted(perDaySum.items(), key=lambda d:d[0], reverse = False)"
   ]
  },
  {
   "cell_type": "code",
   "execution_count": 37,
   "metadata": {},
   "outputs": [
    {
     "data": {
      "text/plain": [
       "{'2018-09-30': 995526,\n",
       " '2018-09-29': 1150601,\n",
       " '2018-09-28': 1229203,\n",
       " '2018-09-27': 1315564,\n",
       " '2018-09-26': 1391487,\n",
       " '2018-09-25': 1384642,\n",
       " '2018-09-24': 1199268,\n",
       " '2018-09-23': 1090551,\n",
       " '2018-09-22': 1183129,\n",
       " '2018-09-21': 1244178,\n",
       " '2018-09-20': 1345197,\n",
       " '2018-09-19': 1269253,\n",
       " '2018-09-18': 1342100,\n",
       " '2018-09-17': 1107756,\n",
       " '2018-09-16': 1164884,\n",
       " '2018-09-15': 1195034,\n",
       " '2018-09-14': 1212977,\n",
       " '2018-09-13': 1346782,\n",
       " '2018-09-12': 1280982,\n",
       " '2018-09-11': 1379618,\n",
       " '2018-09-10': 1331469,\n",
       " '2018-09-09': 1082438,\n",
       " '2018-09-08': 1227598,\n",
       " '2018-09-07': 1238686,\n",
       " '2018-09-06': 1447072,\n",
       " '2018-09-05': 1453101,\n",
       " '2018-09-04': 1353668,\n",
       " '2018-09-03': 1340174,\n",
       " '2018-09-02': 1157184,\n",
       " '2018-09-01': 1214625}"
      ]
     },
     "execution_count": 37,
     "metadata": {},
     "output_type": "execute_result"
    }
   ],
   "source": [
    "newPerdaysum={}\n",
    "for (key,value) in perDaySum:\n",
    "    newPerdaysum[key]=value\n",
    "newPerdaysum"
   ]
  },
  {
   "cell_type": "code",
   "execution_count": 38,
   "metadata": {},
   "outputs": [],
   "source": [
    "newPerdaysum=sorted(newPerdaysum.items(), key=lambda d:d[0])"
   ]
  },
  {
   "cell_type": "code",
   "execution_count": 39,
   "metadata": {},
   "outputs": [
    {
     "data": {
      "text/plain": [
       "[('2018-09-01', 1214625),\n",
       " ('2018-09-02', 1157184),\n",
       " ('2018-09-03', 1340174),\n",
       " ('2018-09-04', 1353668),\n",
       " ('2018-09-05', 1453101),\n",
       " ('2018-09-06', 1447072),\n",
       " ('2018-09-07', 1238686),\n",
       " ('2018-09-08', 1227598),\n",
       " ('2018-09-09', 1082438),\n",
       " ('2018-09-10', 1331469),\n",
       " ('2018-09-11', 1379618),\n",
       " ('2018-09-12', 1280982),\n",
       " ('2018-09-13', 1346782),\n",
       " ('2018-09-14', 1212977),\n",
       " ('2018-09-15', 1195034),\n",
       " ('2018-09-16', 1164884),\n",
       " ('2018-09-17', 1107756),\n",
       " ('2018-09-18', 1342100),\n",
       " ('2018-09-19', 1269253),\n",
       " ('2018-09-20', 1345197),\n",
       " ('2018-09-21', 1244178),\n",
       " ('2018-09-22', 1183129),\n",
       " ('2018-09-23', 1090551),\n",
       " ('2018-09-24', 1199268),\n",
       " ('2018-09-25', 1384642),\n",
       " ('2018-09-26', 1391487),\n",
       " ('2018-09-27', 1315564),\n",
       " ('2018-09-28', 1229203),\n",
       " ('2018-09-29', 1150601),\n",
       " ('2018-09-30', 995526)]"
      ]
     },
     "execution_count": 39,
     "metadata": {},
     "output_type": "execute_result"
    }
   ],
   "source": [
    "newPerdaysum"
   ]
  },
  {
   "cell_type": "code",
   "execution_count": 40,
   "metadata": {},
   "outputs": [
    {
     "data": {
      "text/plain": [
       "{'2018-09-01': 1214625,\n",
       " '2018-09-02': 1157184,\n",
       " '2018-09-03': 1340174,\n",
       " '2018-09-04': 1353668,\n",
       " '2018-09-05': 1453101,\n",
       " '2018-09-06': 1447072,\n",
       " '2018-09-07': 1238686,\n",
       " '2018-09-08': 1227598,\n",
       " '2018-09-09': 1082438,\n",
       " '2018-09-10': 1331469,\n",
       " '2018-09-11': 1379618,\n",
       " '2018-09-12': 1280982,\n",
       " '2018-09-13': 1346782,\n",
       " '2018-09-14': 1212977,\n",
       " '2018-09-15': 1195034,\n",
       " '2018-09-16': 1164884,\n",
       " '2018-09-17': 1107756,\n",
       " '2018-09-18': 1342100,\n",
       " '2018-09-19': 1269253,\n",
       " '2018-09-20': 1345197,\n",
       " '2018-09-21': 1244178,\n",
       " '2018-09-22': 1183129,\n",
       " '2018-09-23': 1090551,\n",
       " '2018-09-24': 1199268,\n",
       " '2018-09-25': 1384642,\n",
       " '2018-09-26': 1391487,\n",
       " '2018-09-27': 1315564,\n",
       " '2018-09-28': 1229203,\n",
       " '2018-09-29': 1150601,\n",
       " '2018-09-30': 995526}"
      ]
     },
     "execution_count": 40,
     "metadata": {},
     "output_type": "execute_result"
    }
   ],
   "source": [
    "perdaysum={}\n",
    "for (key,value) in newPerdaysum:\n",
    "    perdaysum[key]=value\n",
    "perdaysum"
   ]
  },
  {
   "cell_type": "code",
   "execution_count": 42,
   "metadata": {},
   "outputs": [
    {
     "data": {
      "text/plain": [
       "{'2018-09-01': 4217.447916666667,\n",
       " '2018-09-02': 4018.0,\n",
       " '2018-09-03': 4653.381944444444,\n",
       " '2018-09-04': 4700.236111111111,\n",
       " '2018-09-05': 5045.489583333333,\n",
       " '2018-09-06': 5024.555555555556,\n",
       " '2018-09-07': 4300.993055555556,\n",
       " '2018-09-08': 4262.493055555556,\n",
       " '2018-09-09': 3758.465277777778,\n",
       " '2018-09-10': 4623.15625,\n",
       " '2018-09-11': 4790.340277777777,\n",
       " '2018-09-12': 4447.854166666667,\n",
       " '2018-09-13': 4676.326388888889,\n",
       " '2018-09-14': 4211.725694444444,\n",
       " '2018-09-15': 4149.423611111111,\n",
       " '2018-09-16': 4044.7361111111113,\n",
       " '2018-09-17': 3846.375,\n",
       " '2018-09-18': 4660.069444444444,\n",
       " '2018-09-19': 4407.128472222223,\n",
       " '2018-09-20': 4670.822916666667,\n",
       " '2018-09-21': 4320.0625,\n",
       " '2018-09-22': 4108.086805555556,\n",
       " '2018-09-23': 3786.6354166666665,\n",
       " '2018-09-24': 4164.125,\n",
       " '2018-09-25': 4807.784722222223,\n",
       " '2018-09-26': 4831.552083333333,\n",
       " '2018-09-27': 4567.930555555556,\n",
       " '2018-09-28': 4268.065972222223,\n",
       " '2018-09-29': 3995.1423611111113,\n",
       " '2018-09-30': 3456.6875}"
      ]
     },
     "execution_count": 42,
     "metadata": {},
     "output_type": "execute_result"
    }
   ],
   "source": [
    "#求均值\n",
    "for key,value in perdaysum.items():\n",
    "    perdaysum[key]=value/(24*12)\n",
    "perdaysum"
   ]
  },
  {
   "cell_type": "code",
   "execution_count": 45,
   "metadata": {},
   "outputs": [
    {
     "data": {
      "text/plain": [
       "{1: 4217.447916666667,\n",
       " 2: 4018.0,\n",
       " 3: 4653.381944444444,\n",
       " 4: 4700.236111111111,\n",
       " 5: 5045.489583333333,\n",
       " 6: 5024.555555555556,\n",
       " 7: 4300.993055555556,\n",
       " 8: 4262.493055555556,\n",
       " 9: 3758.465277777778,\n",
       " 10: 4623.15625,\n",
       " 11: 4790.340277777777,\n",
       " 12: 4447.854166666667,\n",
       " 13: 4676.326388888889,\n",
       " 14: 4211.725694444444,\n",
       " 15: 4149.423611111111,\n",
       " 16: 4044.7361111111113,\n",
       " 17: 3846.375,\n",
       " 18: 4660.069444444444,\n",
       " 19: 4407.128472222223,\n",
       " 20: 4670.822916666667,\n",
       " 21: 4320.0625,\n",
       " 22: 4108.086805555556,\n",
       " 23: 3786.6354166666665,\n",
       " 24: 4164.125,\n",
       " 25: 4807.784722222223,\n",
       " 26: 4831.552083333333,\n",
       " 27: 4567.930555555556,\n",
       " 28: 4268.065972222223,\n",
       " 29: 3995.1423611111113,\n",
       " 30: 3456.6875}"
      ]
     },
     "execution_count": 45,
     "metadata": {},
     "output_type": "execute_result"
    }
   ],
   "source": [
    "ipersum={}\n",
    "i=1\n",
    "for key,value in perdaysum.items():\n",
    "    ipersum[i]=value\n",
    "    i=i+1\n",
    "ipersum"
   ]
  },
  {
   "cell_type": "code",
   "execution_count": 52,
   "metadata": {
    "scrolled": true
   },
   "outputs": [
    {
     "name": "stdout",
     "output_type": "stream",
     "text": [
      "[4653.381944444444, 4700.236111111111, 5045.489583333333, 5024.555555555556, 4300.993055555556, 4262.493055555556, 3758.465277777778]\n",
      "[4623.15625, 4790.340277777777, 4447.854166666667, 4676.326388888889, 4211.725694444444, 4149.423611111111, 4044.7361111111113]\n",
      "[3846.375, 4660.069444444444, 4407.128472222223, 4670.822916666667, 4320.0625, 4108.086805555556, 3786.6354166666665]\n",
      "[4164.125, 4807.784722222223, 4831.552083333333, 4567.930555555556, 4268.065972222223, 3995.1423611111113, 3456.6875]\n"
     ]
    },
    {
     "data": {
      "text/plain": [
       "[4535.087797619047, 4420.508928571428, 4257.025793650794, 4298.755456349207]"
      ]
     },
     "execution_count": 52,
     "metadata": {},
     "output_type": "execute_result"
    }
   ],
   "source": [
    "# 画每周的图片\n",
    "initday=3\n",
    "meanPerWeek=[]\n",
    "for i in range(1,5):\n",
    "    weekList=[]\n",
    "    weekstr=\"week\"+str(i)\n",
    "    for j in range(initday,initday+7):\n",
    "        weekList.append(ipersum[j])\n",
    "    initday+=7\n",
    "    print(weekList)\n",
    "    plt.plot(weekList)\n",
    "    plt.xlabel(u'Day',fontproperties='SimHei',fontsize=14)\n",
    "    plt.ylabel(u'Num',fontproperties='SimHei',fontsize=14)\n",
    "    plt.title(weekstr)\n",
    "    plt.xticks([0,1,2,3,4,5,6],['Monday ','Tuesday ','Wednesday','Thursday','Friday','Saturday','Sunday'])\n",
    "    plt.savefig(\"F:\\\\BWMProject\\\\10.26\\\\\"+weekstr+\".png\")\n",
    "    plt.close()\n",
    "    meanPerWeek.append(np.mean(np.array(weekList)))\n",
    "meanPerWeek "
   ]
  },
  {
   "cell_type": "code",
   "execution_count": 53,
   "metadata": {},
   "outputs": [],
   "source": [
    "# 画总的图片\n",
    "plt.plot(meanPerWeek)\n",
    "plt.xlabel(u'Week',fontproperties='SimHei',fontsize=14)\n",
    "plt.ylabel(u'Num',fontproperties='SimHei',fontsize=14)\n",
    "plt.title(weekstr)\n",
    "plt.xticks([0,1,2,3],['Week1 ','Week2 ','Week3','Week4'])\n",
    "plt.savefig(\"F:\\\\BWMProject\\\\10.26\\\\Month.png\")\n",
    "plt.close()"
   ]
  },
  {
   "cell_type": "code",
   "execution_count": null,
   "metadata": {},
   "outputs": [],
   "source": []
  }
 ],
 "metadata": {
  "kernelspec": {
   "display_name": "Python 3",
   "language": "python",
   "name": "python3"
  },
  "language_info": {
   "codemirror_mode": {
    "name": "ipython",
    "version": 3
   },
   "file_extension": ".py",
   "mimetype": "text/x-python",
   "name": "python",
   "nbconvert_exporter": "python",
   "pygments_lexer": "ipython3",
   "version": "3.6.6"
  }
 },
 "nbformat": 4,
 "nbformat_minor": 2
}
